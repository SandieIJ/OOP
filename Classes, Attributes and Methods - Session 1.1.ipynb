{
  "nbformat": 4,
  "nbformat_minor": 0,
  "metadata": {
    "colab": {
      "name": "CS166 Session 1.1 Pre-Class Work.ipynb",
      "version": "0.3.2",
      "provenance": []
    },
    "kernelspec": {
      "name": "python3",
      "display_name": "Python 3"
    }
  },
  "cells": [
    {
      "metadata": {
        "id": "e_d4NXNZUJdv",
        "colab_type": "text"
      },
      "cell_type": "markdown",
      "source": [
        "One of the first things you do with a class is to define the _init_() method. The __init__() method sets the values for any parameters that need to be defined when an object is first created.\n",
        "\n",
        "To actually use a class, you create a variable such as my_rocket. Then you set that equal to the name of the class, with an empty set of parentheses. Python creates an object from the class. An object is a single instance of the Rocket class; it has a copy of each of the class's variables, and it can do any action that is defined for the class. \n",
        "\n",
        "To access an object's variables or methods, you give the name of the object and then use dot notation to access the variables and methods. So to get the y-value of my_rocket, you use my_rocket.y. To use the move_up() method on my_rocket, you write my_rocket.move_up().\n",
        "\n",
        "Once you have a class defined, you can create as many objects from that class as you want. Each object is its own instance of that class, with its own separate variables. All of the objects are capable of the same behavior, but each object's particular actions do not affect any of the other objects."
      ]
    },
    {
      "metadata": {
        "id": "5E1iQIbVXUIO",
        "colab_type": "code",
        "colab": {}
      },
      "cell_type": "code",
      "source": [
        "import numpy as np"
      ],
      "execution_count": 0,
      "outputs": []
    },
    {
      "metadata": {
        "id": "4GRsWwKpT7Jy",
        "colab_type": "code",
        "colab": {}
      },
      "cell_type": "code",
      "source": [
        "#Using just what you already know, try to write a program that simulates \n",
        "#the above example about rockets.\n",
        "#Store an x and y value for a rocket.\n",
        "#Store an x and y value for each rocket in a set of 5 rockets. \n",
        "#Store these 5 rockets in a list.\n",
        "\n",
        "def rocket_def(x,y):\n",
        "  move_side = x+1\n",
        "  move_up = y+1 \n",
        "  \n",
        "rockets = []\n",
        "\n",
        "for i in range (0,5):\n",
        "  rocket = rocket_def(np.random.randint(0,100),np.random.randint(0,100))\n",
        "  rockets.append(rocket)\n"
      ],
      "execution_count": 0,
      "outputs": []
    },
    {
      "metadata": {
        "id": "j0B8sxnlYlrE",
        "colab_type": "text"
      },
      "cell_type": "markdown",
      "source": [
        "A class is a body of code that defines the attributes and behaviors required to accurately model something you need for your program. You can model something from the real world, such as a rocket ship or a guitar string, or you can model something from a virtual world such as a rocket in a game, or a set of physical laws for a game engine.\n",
        "\n",
        "An attribute is a piece of information. In code, an attribute is just a variable that is part of a class.\n",
        "\n",
        "A behavior is an action that is defined within a class. These are made up of methods, which are just functions that are defined for the class.\n",
        "\n",
        "An object is a particular instance of a class. An object has a certain set of values for all of the attributes (variables) in the class. You can have as many objects as you want for any one class.\n",
        "\n",
        "####Function names that start and end with two underscores are special built-in functions that Python uses in certain ways. The __init()__ method is one of these special functions. It is called automatically when you create an object from your class. The __init()__ method lets you make sure that all relevant attributes are set to their proper values when an object is created from the class, before the object is used. In this case, The __init__() method initializes the x and y values of the Rocket to 0\n",
        "\n",
        "####The self keyword often takes people a little while to understand. The word \"self\" refers to the current object that you are working with. When you are writing a class, it lets you refer to certain attributes from any other part of the class. Basically, all methods in a class need the self object as their first argument, so they can access any attribute that is part of the class"
      ]
    },
    {
      "metadata": {
        "id": "9RypS2qoYnR5",
        "colab_type": "code",
        "outputId": "591f552d-ff5e-4f2d-bae6-801a33841cdc",
        "colab": {
          "base_uri": "https://localhost:8080/",
          "height": 238
        }
      },
      "cell_type": "code",
      "source": [
        "#Without looking back at the previous examples, try to recreate \n",
        "#the Rocket class as it has been shown so far.\n",
        "\n",
        "class Rocket():\n",
        "  #Define the Rocket() class.\n",
        "  \n",
        "  def __init__(self):\n",
        "    self.x = 0\n",
        "    self.y = 0\n",
        "    #Define the __init__() method, which sets an x and a y value f\n",
        "    #or each Rocket object.\n",
        "    \n",
        "  def move_up(self):\n",
        "    self.y += 1\n",
        "    #Define the move_up() method.\n",
        "    \n",
        "sandies_rocket = Rocket()\n",
        "#Create a Rocket object.\n",
        "\n",
        "print(sandies_rocket)\n",
        "#Print the object.\n",
        "\n",
        "print(\"Sandie's Rocket is at altitide of:\", sandies_rocket.y)\n",
        "#Print the object's y-value.\n",
        "\n",
        "sandies_rocket.move_up()\n",
        "print(\"Sandie's Rocket is at new altitide of:\", sandies_rocket.y)\n",
        "#Move the rocket up, and print its y-value again.\n",
        "\n",
        "my_fleet = []\n",
        "for i in range (0,10):\n",
        "  my_fleet.append(Rocket())\n",
        "for rocket in my_fleet:\n",
        "  print(rocket.y)\n",
        "#Create a fleet of rockets, and prove that they are indeed \n",
        "#separate Rocket objects"
      ],
      "execution_count": 0,
      "outputs": [
        {
          "output_type": "stream",
          "text": [
            "<__main__.Rocket object at 0x7f84b1986c88>\n",
            "Sandie's Rocket is at altitide of: 0\n",
            "Sandie's Rocket is at new altitide of: 1\n",
            "0\n",
            "0\n",
            "0\n",
            "0\n",
            "0\n",
            "0\n",
            "0\n",
            "0\n",
            "0\n",
            "0\n"
          ],
          "name": "stdout"
        }
      ]
    },
    {
      "metadata": {
        "id": "KPlV4K_VicLa",
        "colab_type": "code",
        "outputId": "d42fe716-f74c-4c60-fac7-63bb6f0d2c3f",
        "colab": {
          "base_uri": "https://localhost:8080/",
          "height": 68
        }
      },
      "cell_type": "code",
      "source": [
        "class Person():\n",
        "  #Define a Person() class.\n",
        "  def __init__(self,name,age,pob,gender):\n",
        "    self.name = name\n",
        "    self.age = age\n",
        "    self.pob = pob\n",
        "    self.gender = gender\n",
        "  #In the __init()__ function, define several attributes of a person. \n",
        "  #Good attributes to consider are name, age, place of birth, \n",
        "  #and anything else you like to know about the people in your life.\n",
        "  \n",
        "  def introduce_yourself(self):\n",
        "    print(\"Hello, my name is \",self.name)    \n",
        "  #Write one method. This could be as simple as introduce_yourself(). \n",
        "  \n",
        "  def age_person(self, age_increment = 0):\n",
        "    self.age += age_increment\n",
        "  #You could also make a method such as age_person(). \n",
        "  #A simple version of this method would just add 1 to the person's age.\n",
        "  \n",
        "Sandie = Person(\"Sandie\",23,\"Nairobi\",\"female\")\n",
        "\n",
        "Sandie.introduce_yourself()\n",
        "print(\"I am\", Sandie.age, \"year old \", Sandie.gender)\n",
        "print(\"I was born in \", Sandie.pob)"
      ],
      "execution_count": 0,
      "outputs": [
        {
          "output_type": "stream",
          "text": [
            "Hello, my name is  Sandie\n",
            "I am 23 year old  female\n",
            "I was born in  Nairobi\n"
          ],
          "name": "stdout"
        }
      ]
    }
  ]
}